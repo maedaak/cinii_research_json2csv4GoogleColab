{
  "nbformat": 4,
  "nbformat_minor": 0,
  "metadata": {
    "colab": {
      "provenance": [],
      "authorship_tag": "ABX9TyMMsnu+b0RYULftxdkRcnWx",
      "include_colab_link": true
    },
    "kernelspec": {
      "name": "python3",
      "display_name": "Python 3"
    },
    "language_info": {
      "name": "python"
    }
  },
  "cells": [
    {
      "cell_type": "markdown",
      "metadata": {
        "id": "view-in-github",
        "colab_type": "text"
      },
      "source": [
        "<a href=\"https://colab.research.google.com/github/maedaak/cinii_research_json2csv4GoogleColab/blob/main/cinii_research_json2csv.ipynb\" target=\"_parent\"><img src=\"https://colab.research.google.com/assets/colab-badge.svg\" alt=\"Open In Colab\"/></a>"
      ]
    },
    {
      "cell_type": "markdown",
      "source": [
        "# cinii_research_json2csv\n",
        "\n",
        "- Google Colaboratory 用のコード\n",
        "- Cinii ResearchのJSON形式の出力を取り込みCSV形式に変換する\n",
        "- 繰り返し項目である著者名はjson形式にのままなので注意"
      ],
      "metadata": {
        "id": "1v6z9FOQLNdo"
      }
    },
    {
      "cell_type": "code",
      "execution_count": null,
      "metadata": {
        "id": "gon4g6fYLDRm"
      },
      "outputs": [],
      "source": [
        "from google.colab import files\n",
        "import pandas as pd\n",
        "import csv\n",
        "import sys\n",
        "import json\n",
        "\n",
        "output_csv = \"cinii_data.csv\""
      ]
    },
    {
      "cell_type": "code",
      "source": [
        "uploaded = files.upload()\n",
        "for fn in uploaded.keys():\n",
        "   pass\n",
        "f = open(fn)\n",
        "json_data = f.read()\n",
        "f.close()\n",
        "data_dict = json.loads(json_data)"
      ],
      "metadata": {
        "id": "ZjXtHodGLi1Z"
      },
      "execution_count": null,
      "outputs": []
    },
    {
      "cell_type": "code",
      "source": [
        "items = data_dict[\"items\"]\n",
        "pddata = pd.json_normalize(items)\n",
        "for index, row in pddata.iterrows():\n",
        "    creator_list = []\n",
        "    if type(row[\"dc:creator\"]) is list:\n",
        "        for creator in row[\"dc:creator\"]:\n",
        "            creator_list.append(creator)\n",
        "    creators = '|'.join(creator_list)\n",
        "    pddata.at[index, 'creators'] = creators\n",
        "pddata.to_csv(output_csv, encoding='utf-8_sig', quoting=csv.QUOTE_ALL, index=False )\n",
        "files.download(output_csv)"
      ],
      "metadata": {
        "colab": {
          "base_uri": "https://localhost:8080/",
          "height": 17
        },
        "id": "9VscTBPnMDse",
        "outputId": "661b99cf-82b5-41c3-d47e-8ad30929e05a"
      },
      "execution_count": null,
      "outputs": [
        {
          "output_type": "display_data",
          "data": {
            "text/plain": [
              "<IPython.core.display.Javascript object>"
            ],
            "application/javascript": [
              "\n",
              "    async function download(id, filename, size) {\n",
              "      if (!google.colab.kernel.accessAllowed) {\n",
              "        return;\n",
              "      }\n",
              "      const div = document.createElement('div');\n",
              "      const label = document.createElement('label');\n",
              "      label.textContent = `Downloading \"${filename}\": `;\n",
              "      div.appendChild(label);\n",
              "      const progress = document.createElement('progress');\n",
              "      progress.max = size;\n",
              "      div.appendChild(progress);\n",
              "      document.body.appendChild(div);\n",
              "\n",
              "      const buffers = [];\n",
              "      let downloaded = 0;\n",
              "\n",
              "      const channel = await google.colab.kernel.comms.open(id);\n",
              "      // Send a message to notify the kernel that we're ready.\n",
              "      channel.send({})\n",
              "\n",
              "      for await (const message of channel.messages) {\n",
              "        // Send a message to notify the kernel that we're ready.\n",
              "        channel.send({})\n",
              "        if (message.buffers) {\n",
              "          for (const buffer of message.buffers) {\n",
              "            buffers.push(buffer);\n",
              "            downloaded += buffer.byteLength;\n",
              "            progress.value = downloaded;\n",
              "          }\n",
              "        }\n",
              "      }\n",
              "      const blob = new Blob(buffers, {type: 'application/binary'});\n",
              "      const a = document.createElement('a');\n",
              "      a.href = window.URL.createObjectURL(blob);\n",
              "      a.download = filename;\n",
              "      div.appendChild(a);\n",
              "      a.click();\n",
              "      div.remove();\n",
              "    }\n",
              "  "
            ]
          },
          "metadata": {}
        },
        {
          "output_type": "display_data",
          "data": {
            "text/plain": [
              "<IPython.core.display.Javascript object>"
            ],
            "application/javascript": [
              "download(\"download_8e399c83-6b71-46a9-9912-20a3358d0488\", \"cinii_data.csv\", 12758)"
            ]
          },
          "metadata": {}
        }
      ]
    }
  ]
}